{
 "cells": [
  {
   "cell_type": "markdown",
   "id": "fd02c909-e0f3-4b14-a67f-abd4f7459a1e",
   "metadata": {},
   "source": [
    "Основы работы с conda"
   ]
  },
  {
   "cell_type": "markdown",
   "id": "82785b6d-09b9-4ee8-9a17-13dfd9db79bb",
   "metadata": {},
   "source": [
    "conda — это менеджер пакетов и окружений, который часто используется в Data Science и MLOps для управления зависимостями и изоляции проектов.\n",
    "\n",
    "Если у тебя еще не установлен conda, ты можешь установить его, скачав Miniconda #[https://docs.conda.io/en/latest/miniconda.html] или Anaconda [https://www.anaconda.com/download]."
   ]
  },
  {
   "cell_type": "markdown",
   "id": "e670524c-8490-43ca-a83b-eb8167230215",
   "metadata": {},
   "source": [
    "## Основные команды conda\n",
    "### 1. Создание нового окружения:\n",
    "conda create --name test_env python=3.10\n",
    "### 2. Активация окружения:\n",
    "conda activate myenv\n",
    "### 3. Деактивация окружения:\n",
    "conda deactivate\n",
    "### 4. Установка пакетов:\n",
    "conda install numpy pandas\n",
    "### 5. Удаление пакетов:\n",
    "conda remove numpy\n",
    "### 6. Экспорт окружения в файл:\n",
    "conda env export > environment.yml"
   ]
  },
  {
   "cell_type": "code",
   "execution_count": 29,
   "id": "ec6e3861-63f7-4ace-8b00-7b3fbbebe053",
   "metadata": {},
   "outputs": [
    {
     "name": "stdout",
     "output_type": "stream",
     "text": [
      "\n",
      "Host Name:                     ASUS-VIVOBOOK-M\n",
      "OS Name:                       Майкрософт Windows 11 Pro\n",
      "OS Version:                    10.0.26100 N/A Build 26100\n",
      "OS Manufacturer:               Microsoft Corporation\n",
      "OS Configuration:              Standalone Workstation\n",
      "OS Build Type:                 Multiprocessor Free\n",
      "Registered Owner:              Артём\n",
      "Registered Organization:       \n",
      "Product ID:                    00330-80000-00000-AA257\n",
      "Original Install Date:         20.02.2025, 2:19:10\n",
      "System Boot Time:              20.02.2025, 13:04:20\n",
      "System Manufacturer:           ASUSTeK COMPUTER INC.\n",
      "System Model:                  Vivobook_ASUSLaptop M6500QC_M6500QC\n",
      "System Type:                   x64-based PC\n",
      "Processor(s):                  1 Processor(s) Installed.\n",
      "                               [01]: AMD64 Family 25 Model 80 Stepping 0 AuthenticAMD ~3201 Mhz\n",
      "BIOS Version:                  American Megatrends International, LLC. M6500QC.311, 06.04.2023\n",
      "Windows Directory:             C:\\WINDOWS\n",
      "System Directory:              C:\\WINDOWS\\system32\n",
      "Boot Device:                   \\Device\\HarddiskVolume1\n",
      "System Locale:                 ru;Russian\n",
      "Input Locale:                  ru;Russian\n",
      "Time Zone:                     (UTC+05:00) Ekaterinburg\n",
      "Total Physical Memory:         15 773 MB\n",
      "Available Physical Memory:     8 058 MB\n",
      "Virtual Memory: Max Size:      30 109 MB\n",
      "Virtual Memory: Available:     19 816 MB\n",
      "Virtual Memory: In Use:        10 293 MB\n",
      "Page File Location(s):         C:\\pagefile.sys\n",
      "Domain:                        WORKGROUP\n",
      "Logon Server:                  \\\\ASUS-VIVOBOOK-M\n",
      "Hotfix(s):                     3 Hotfix(s) Installed.\n",
      "                               [01]: KB5049622\n",
      "                               [02]: KB5051987\n",
      "                               [03]: KB5052085\n",
      "Network Card(s):               4 NIC(s) Installed.\n",
      "                               [01]: MediaTek Wi-Fi 6 MT7921 Wireless LAN Card\n",
      "                                     Connection Name: Беспроводная сеть\n",
      "                                     DHCP Enabled:    Yes\n",
      "                                     DHCP Server:     10.5.0.1\n",
      "                                     IP address(es)\n",
      "                                     [01]: 10.5.25.7\n",
      "                                     [02]: fe80::8995:2340:f6cf:75e\n",
      "                               [02]: Cisco AnyConnect Secure Mobility Client Virtual Miniport Adapter for Windows x64\n",
      "                                     Connection Name: Ethernet 2\n",
      "                                     Status:          Hardware not present\n",
      "                               [03]: Famatech Radmin VPN Ethernet Adapter\n",
      "                                     Connection Name: Radmin VPN\n",
      "                                     DHCP Enabled:    No\n",
      "                                     IP address(es)\n",
      "                                     [01]: 26.217.45.85\n",
      "                                     [02]: fe80::e0f4:9fc3:6647:5828\n",
      "                                     [03]: fdfd::1ad9:2d55\n",
      "                               [04]: Bluetooth Device (Personal Area Network)\n",
      "                                     Connection Name: Сетевое подключение Bluetooth\n",
      "                                     Status:          Media disconnected\n",
      "Virtualization-based security: Status: Not enabled\n",
      "                               App Control for Business policy: Enforced\n",
      "                               App Control for Business user mode policy: Off\n",
      "                               Security Features Enabled:\n",
      "Hyper-V Requirements:          VM Monitor Mode Extensions: Yes\n",
      "                               Virtualization Enabled In Firmware: Yes\n",
      "                               Second Level Address Translation: Yes\n",
      "                               Data Execution Prevention Available: Yes\n"
     ]
    }
   ],
   "source": [
    "!systeminfo /S ASUS-VIVOBOOK-M"
   ]
  },
  {
   "cell_type": "code",
   "execution_count": 30,
   "id": "88b15ceb-734d-4a67-99d8-328275b22df5",
   "metadata": {},
   "outputs": [],
   "source": [
    "#Пример получения списка установленный пакетов в системе и запись в файл list_libs.yml\n",
    "!conda list > list_libs.yml"
   ]
  },
  {
   "cell_type": "code",
   "execution_count": 39,
   "id": "7c5c23c6-2c10-411a-990c-1e8909eab588",
   "metadata": {},
   "outputs": [
    {
     "name": "stdout",
     "output_type": "stream",
     "text": [
      "navigator-updater         0.5.1           py312haa95532_0  \n",
      "nbclient                  0.8.0           py312haa95532_0  \n",
      "nbconvert                 7.16.4          py312haa95532_0  \n",
      "nbformat                  5.10.4          py312haa95532_0  \n",
      "nest-asyncio              1.6.0           py312haa95532_0  \n",
      "networkx                  3.3             py312haa95532_0  \n",
      "nltk                      3.9.1           py312haa95532_0  \n",
      "notebook                  7.2.2           py312haa95532_1  \n",
      "notebook-shim             0.2.3           py312haa95532_0  \n",
      "numba                     0.60.0          py312h0158946_0  \n",
      "numexpr                   2.8.7           py312h96b7d27_0  \n",
      "numpy                     1.26.4          py312hfd52020_0  \n",
      "numpy-base                1.26.4          py312h4dde369_0  \n",
      "numpydoc                  1.7.0           py312haa95532_0  \n"
     ]
    }
   ],
   "source": [
    "#Вывод списка библиотек из файла начинающихся на \"n\"\n",
    "!findstr /B \"n\" list_libs.yml"
   ]
  },
  {
   "cell_type": "markdown",
   "id": "137a8323-e68c-4514-87ce-46a3b9fa7f1e",
   "metadata": {},
   "source": [
    "## Основные команды pip"
   ]
  },
  {
   "cell_type": "raw",
   "id": "e55a5c34-4fd7-49e3-b682-aa90304f2bc8",
   "metadata": {},
   "source": [
    "1.Выводим список установленный пакетов"
   ]
  },
  {
   "cell_type": "code",
   "execution_count": 40,
   "id": "c64d7fae-9ec6-4c3a-9f48-cea782d38c09",
   "metadata": {
    "scrolled": true
   },
   "outputs": [
    {
     "name": "stdout",
     "output_type": "stream",
     "text": [
      "Package                           Version\n",
      "--------------------------------- ------------------\n",
      "aiobotocore                       2.12.3\n",
      "aiohappyeyeballs                  2.4.0\n",
      "aiohttp                           3.10.5\n",
      "aioitertools                      0.7.1\n",
      "aiosignal                         1.2.0\n",
      "alabaster                         0.7.16\n",
      "altair                            5.0.1\n",
      "anaconda-anon-usage               0.4.4\n",
      "anaconda-catalogs                 0.2.0\n",
      "anaconda-client                   1.12.3\n",
      "anaconda-cloud-auth               0.5.1\n",
      "anaconda-navigator                2.6.3\n",
      "anaconda-project                  0.11.1\n",
      "annotated-types                   0.6.0\n",
      "anyio                             4.2.0\n",
      "appdirs                           1.4.4\n",
      "archspec                          0.2.3\n",
      "argon2-cffi                       21.3.0\n",
      "argon2-cffi-bindings              21.2.0\n",
      "arrow                             1.2.3\n",
      "astroid                           2.14.2\n",
      "astropy                           6.1.3\n",
      "astropy-iers-data                 0.2024.9.2.0.33.23\n",
      "asttokens                         2.0.5\n",
      "async-lru                         2.0.4\n",
      "atomicwrites                      1.4.0\n",
      "attrs                             23.1.0\n",
      "Automat                           20.2.0\n",
      "autopep8                          2.0.4\n",
      "Babel                             2.11.0\n",
      "bcrypt                            3.2.0\n",
      "beautifulsoup4                    4.12.3\n",
      "binaryornot                       0.4.4\n",
      "black                             24.8.0\n",
      "bleach                            4.1.0\n",
      "blinker                           1.6.2\n",
      "bokeh                             3.6.0\n",
      "boltons                           23.0.0\n",
      "botocore                          1.34.69\n",
      "Bottleneck                        1.3.7\n",
      "Brotli                            1.0.9\n",
      "cachetools                        5.3.3\n",
      "certifi                           2025.1.31\n",
      "cffi                              1.17.1\n",
      "chardet                           4.0.0\n",
      "charset-normalizer                3.3.2\n",
      "click                             8.1.7\n",
      "cloudpickle                       3.0.0\n",
      "colorama                          0.4.6\n",
      "colorcet                          3.1.0\n",
      "comm                              0.2.1\n",
      "conda                             24.11.3\n",
      "conda-build                       24.9.0\n",
      "conda-content-trust               0.2.0\n",
      "conda_index                       0.5.0\n",
      "conda-libmamba-solver             24.9.0\n",
      "conda-pack                        0.7.1\n",
      "conda-package-handling            2.3.0\n",
      "conda_package_streaming           0.10.0\n",
      "conda-repo-cli                    1.0.114\n",
      "conda-token                       0.5.0+1.g2209e04\n",
      "constantly                        23.10.4\n",
      "contourpy                         1.2.0\n",
      "cookiecutter                      2.6.0\n",
      "cryptography                      43.0.0\n",
      "cssselect                         1.2.0\n",
      "cycler                            0.11.0\n",
      "cytoolz                           0.12.2\n",
      "dask                              2024.8.2\n",
      "dask-expr                         1.1.13\n",
      "datashader                        0.16.3\n",
      "debugpy                           1.6.7\n",
      "decorator                         5.1.1\n",
      "defusedxml                        0.7.1\n",
      "diff-match-patch                  20200713\n",
      "dill                              0.3.8\n",
      "distributed                       2024.8.2\n",
      "distro                            1.9.0\n",
      "docstring-to-markdown             0.11\n",
      "docutils                          0.18.1\n",
      "et-xmlfile                        1.1.0\n",
      "executing                         0.8.3\n",
      "fastjsonschema                    2.16.2\n",
      "filelock                          3.13.1\n",
      "flake8                            7.0.0\n",
      "Flask                             3.0.3\n",
      "fonttools                         4.51.0\n",
      "frozendict                        2.4.2\n",
      "frozenlist                        1.4.0\n",
      "fsspec                            2024.6.1\n",
      "gensim                            4.3.3\n",
      "gitdb                             4.0.7\n",
      "GitPython                         3.1.43\n",
      "greenlet                          3.0.1\n",
      "h11                               0.14.0\n",
      "h5py                              3.11.0\n",
      "HeapDict                          1.0.1\n",
      "holoviews                         1.19.1\n",
      "httpcore                          1.0.2\n",
      "httpx                             0.27.0\n",
      "hvplot                            0.11.0\n",
      "hyperlink                         21.0.0\n",
      "idna                              3.7\n",
      "imagecodecs                       2023.1.23\n",
      "imageio                           2.33.1\n",
      "imagesize                         1.4.1\n",
      "imbalanced-learn                  0.12.3\n",
      "importlib-metadata                7.0.1\n",
      "incremental                       22.10.0\n",
      "inflection                        0.5.1\n",
      "iniconfig                         1.1.1\n",
      "intake                            2.0.7\n",
      "intervaltree                      3.1.0\n",
      "ipykernel                         6.28.0\n",
      "ipython                           8.27.0\n",
      "ipython-genutils                  0.2.0\n",
      "ipywidgets                        7.8.1\n",
      "isort                             5.13.2\n",
      "itemadapter                       0.3.0\n",
      "itemloaders                       1.1.0\n",
      "itsdangerous                      2.2.0\n",
      "jaraco.classes                    3.2.1\n",
      "jedi                              0.19.1\n",
      "jellyfish                         1.0.1\n",
      "Jinja2                            3.1.4\n",
      "jmespath                          1.0.1\n",
      "joblib                            1.4.2\n",
      "json5                             0.9.6\n",
      "jsonpatch                         1.33\n",
      "jsonpointer                       2.1\n",
      "jsonschema                        4.23.0\n",
      "jsonschema-specifications         2023.7.1\n",
      "jupyter                           1.0.0\n",
      "jupyter_client                    8.6.0\n",
      "jupyter-console                   6.6.3\n",
      "jupyter_core                      5.7.2\n",
      "jupyter-events                    0.10.0\n",
      "jupyter-lsp                       2.2.0\n",
      "jupyter_server                    2.14.1\n",
      "jupyter_server_terminals          0.4.4\n",
      "jupyterlab                        4.2.5\n",
      "jupyterlab-pygments               0.1.2\n",
      "jupyterlab_server                 2.27.3\n",
      "jupyterlab-widgets                1.0.0\n",
      "keyring                           24.3.1\n",
      "kiwisolver                        1.4.4\n",
      "lazy_loader                       0.4\n",
      "lazy-object-proxy                 1.10.0\n",
      "lckr_jupyterlab_variableinspector 3.1.0\n",
      "libarchive-c                      5.1\n",
      "libmambapy                        1.5.8\n",
      "linkify-it-py                     2.0.0\n",
      "llvmlite                          0.43.0\n",
      "lmdb                              1.4.1\n",
      "locket                            1.0.0\n",
      "lxml                              5.2.1\n",
      "lz4                               4.3.2\n",
      "Markdown                          3.4.1\n",
      "markdown-it-py                    2.2.0\n",
      "MarkupSafe                        2.1.3\n",
      "matplotlib                        3.9.2\n",
      "matplotlib-inline                 0.1.6\n",
      "mccabe                            0.7.0\n",
      "mdit-py-plugins                   0.3.0\n",
      "mdurl                             0.1.0\n",
      "menuinst                          2.1.2\n",
      "mistune                           2.0.4\n",
      "mkl_fft                           1.3.10\n",
      "mkl_random                        1.2.7\n",
      "mkl-service                       2.4.0\n",
      "more-itertools                    10.3.0\n",
      "mpmath                            1.3.0\n",
      "msgpack                           1.0.3\n",
      "multidict                         6.0.4\n",
      "multipledispatch                  0.6.0\n",
      "mypy                              1.11.2\n",
      "mypy-extensions                   1.0.0\n",
      "navigator-updater                 0.5.1\n",
      "nbclient                          0.8.0\n",
      "nbconvert                         7.16.4\n",
      "nbformat                          5.10.4\n",
      "nest-asyncio                      1.6.0\n",
      "networkx                          3.3\n",
      "nltk                              3.9.1\n",
      "notebook                          7.2.2\n",
      "notebook_shim                     0.2.3\n",
      "numba                             0.60.0\n",
      "numexpr                           2.8.7\n",
      "numpy                             1.26.4\n",
      "numpydoc                          1.7.0\n",
      "openpyxl                          3.1.5\n",
      "overrides                         7.4.0\n",
      "packaging                         24.1\n",
      "pandas                            2.2.3\n",
      "pandocfilters                     1.5.0\n",
      "panel                             1.5.2\n",
      "param                             2.1.1\n",
      "paramiko                          2.8.1\n",
      "parsel                            1.8.1\n",
      "parso                             0.8.3\n",
      "partd                             1.4.1\n",
      "pathspec                          0.10.3\n",
      "patsy                             0.5.6\n",
      "pexpect                           4.8.0\n",
      "pickleshare                       0.7.5\n",
      "pillow                            10.4.0\n",
      "pip                               24.2\n",
      "pkce                              1.0.3\n",
      "pkginfo                           1.10.0\n",
      "platformdirs                      3.10.0\n",
      "plotly                            5.24.1\n",
      "pluggy                            1.0.0\n",
      "ply                               3.11\n",
      "prometheus-client                 0.14.1\n",
      "prompt-toolkit                    3.0.43\n",
      "Protego                           0.1.16\n",
      "protobuf                          4.25.3\n",
      "psutil                            5.9.0\n",
      "ptyprocess                        0.7.0\n",
      "pure-eval                         0.2.2\n",
      "py-cpuinfo                        9.0.0\n",
      "pyarrow                           16.1.0\n",
      "pyasn1                            0.4.8\n",
      "pyasn1-modules                    0.2.8\n",
      "pycodestyle                       2.11.1\n",
      "pycosat                           0.6.6\n",
      "pycparser                         2.21\n",
      "pyct                              0.5.0\n",
      "pycurl                            7.45.3\n",
      "pydantic                          2.8.2\n",
      "pydantic_core                     2.20.1\n",
      "pydeck                            0.8.0\n",
      "PyDispatcher                      2.0.5\n",
      "pydocstyle                        6.3.0\n",
      "pyerfa                            2.0.1.4\n",
      "pyflakes                          3.2.0\n",
      "Pygments                          2.15.1\n",
      "PyJWT                             2.8.0\n",
      "pylint                            2.16.2\n",
      "pylint-venv                       3.0.3\n",
      "pyls-spyder                       0.4.0\n",
      "PyNaCl                            1.5.0\n",
      "pyodbc                            5.1.0\n",
      "pyOpenSSL                         24.2.1\n",
      "pyparsing                         3.1.2\n",
      "PyQt5                             5.15.10\n",
      "PyQt5-sip                         12.13.0\n",
      "PyQtWebEngine                     5.15.6\n",
      "PySocks                           1.7.1\n",
      "pytest                            7.4.4\n",
      "python-dateutil                   2.9.0.post0\n",
      "python-dotenv                     0.21.0\n",
      "python-json-logger                2.0.7\n",
      "python-lsp-black                  2.0.0\n",
      "python-lsp-jsonrpc                1.1.2\n",
      "python-lsp-server                 1.10.0\n",
      "python-slugify                    5.0.2\n",
      "pytoolconfig                      1.2.6\n",
      "pytz                              2024.1\n",
      "pyviz_comms                       3.0.2\n",
      "PyWavelets                        1.7.0\n",
      "pywin32                           305.1\n",
      "pywin32-ctypes                    0.2.2\n",
      "pywinpty                          2.0.10\n",
      "PyYAML                            6.0.1\n",
      "pyzmq                             25.1.2\n",
      "QDarkStyle                        3.2.3\n",
      "qstylizer                         0.2.2\n",
      "QtAwesome                         1.3.1\n",
      "qtconsole                         5.5.1\n",
      "QtPy                              2.4.1\n",
      "queuelib                          1.6.2\n",
      "referencing                       0.30.2\n",
      "regex                             2024.9.11\n",
      "requests                          2.32.3\n",
      "requests-file                     1.5.1\n",
      "requests-toolbelt                 1.0.0\n",
      "rfc3339-validator                 0.1.4\n",
      "rfc3986-validator                 0.1.1\n",
      "rich                              13.7.1\n",
      "rope                              1.12.0\n",
      "rpds-py                           0.10.6\n",
      "Rtree                             1.0.1\n",
      "ruamel.yaml                       0.18.6\n",
      "ruamel.yaml.clib                  0.2.8\n",
      "ruamel-yaml-conda                 0.17.21\n",
      "s3fs                              2024.6.1\n",
      "scikit-image                      0.24.0\n",
      "scikit-learn                      1.5.1\n",
      "scipy                             1.13.1\n",
      "Scrapy                            2.11.1\n",
      "seaborn                           0.13.2\n",
      "semver                            3.0.2\n",
      "Send2Trash                        1.8.2\n",
      "service-identity                  18.1.0\n",
      "setuptools                        75.1.0\n",
      "sip                               6.7.12\n",
      "six                               1.16.0\n",
      "smart-open                        5.2.1\n",
      "smmap                             4.0.0\n",
      "sniffio                           1.3.0\n",
      "snowballstemmer                   2.2.0\n",
      "sortedcontainers                  2.4.0\n",
      "soupsieve                         2.5\n",
      "Sphinx                            7.3.7\n",
      "sphinxcontrib-applehelp           1.0.2\n",
      "sphinxcontrib-devhelp             1.0.2\n",
      "sphinxcontrib-htmlhelp            2.0.0\n",
      "sphinxcontrib-jsmath              1.0.1\n",
      "sphinxcontrib-qthelp              1.0.3\n",
      "sphinxcontrib-serializinghtml     1.1.10\n",
      "spyder                            5.5.1\n",
      "spyder-kernels                    2.5.0\n",
      "SQLAlchemy                        2.0.34\n",
      "stack-data                        0.2.0\n",
      "statsmodels                       0.14.2\n",
      "streamlit                         1.37.1\n",
      "sympy                             1.13.2\n",
      "tables                            3.10.1\n",
      "tabulate                          0.9.0\n",
      "tblib                             1.7.0\n",
      "tenacity                          8.2.3\n",
      "terminado                         0.17.1\n",
      "text-unidecode                    1.3\n",
      "textdistance                      4.2.1\n",
      "threadpoolctl                     3.5.0\n",
      "three-merge                       0.1.1\n",
      "tifffile                          2023.4.12\n",
      "tinycss2                          1.2.1\n",
      "tldextract                        5.1.2\n",
      "toml                              0.10.2\n",
      "tomli                             2.0.1\n",
      "tomlkit                           0.11.1\n",
      "toolz                             0.12.0\n",
      "tornado                           6.4.1\n",
      "tqdm                              4.66.5\n",
      "traitlets                         5.14.3\n",
      "truststore                        0.8.0\n",
      "Twisted                           23.10.0\n",
      "twisted-iocpsupport               1.0.2\n",
      "typing_extensions                 4.11.0\n",
      "tzdata                            2023.3\n",
      "uc-micro-py                       1.0.1\n",
      "ujson                             5.10.0\n",
      "unicodedata2                      15.1.0\n",
      "Unidecode                         1.3.8\n",
      "urllib3                           2.2.3\n",
      "w3lib                             2.1.2\n",
      "watchdog                          4.0.1\n",
      "wcwidth                           0.2.5\n",
      "webencodings                      0.5.1\n",
      "websocket-client                  1.8.0\n",
      "Werkzeug                          3.0.3\n",
      "whatthepatch                      1.0.2\n",
      "wheel                             0.44.0\n",
      "widgetsnbextension                3.6.6\n",
      "win-inet-pton                     1.1.0\n",
      "wrapt                             1.14.1\n",
      "xarray                            2023.6.0\n",
      "xlwings                           0.32.1\n",
      "xyzservices                       2022.9.0\n",
      "yapf                              0.40.2\n",
      "yarl                              1.11.0\n",
      "zict                              3.0.0\n",
      "zipp                              3.17.0\n",
      "zope.interface                    5.4.0\n",
      "zstandard                         0.23.0\n"
     ]
    }
   ],
   "source": [
    "!pip list "
   ]
  },
  {
   "cell_type": "raw",
   "id": "fc2256fa-b87e-45c3-bbc4-70f1e50850a4",
   "metadata": {},
   "source": [
    "2. Информация о выбранном пакете"
   ]
  },
  {
   "cell_type": "code",
   "execution_count": 44,
   "id": "13b9eac2-a68b-4b17-84ff-41c8adc7a553",
   "metadata": {
    "scrolled": true
   },
   "outputs": [
    {
     "name": "stdout",
     "output_type": "stream",
     "text": [
      "Name: apache-airflow\n",
      "Version: 2.10.5\n",
      "Summary: Programmatically author, schedule and monitor data pipelines\n",
      "Home-page: https://airflow.apache.org/\n",
      "Author: \n",
      "Author-email: Apache Software Foundation <dev@airflow.apache.org>\n",
      "License: \n",
      "Location: C:\\Users\\Artem Markov\\anaconda3\\Lib\\site-packages\n",
      "Requires: alembic, apache-airflow-providers-common-compat, apache-airflow-providers-common-io, apache-airflow-providers-common-sql, apache-airflow-providers-fab, apache-airflow-providers-ftp, apache-airflow-providers-http, apache-airflow-providers-imap, apache-airflow-providers-smtp, apache-airflow-providers-sqlite, argcomplete, asgiref, attrs, blinker, colorlog, configupdater, connexion, cron-descriptor, croniter, cryptography, deprecated, dill, flask, flask-caching, flask-session, flask-wtf, fsspec, google-re2, gunicorn, httpx, itsdangerous, jinja2, jsonschema, lazy-object-proxy, linkify-it-py, lockfile, markdown-it-py, markupsafe, marshmallow-oneofschema, mdit-py-plugins, methodtools, opentelemetry-api, opentelemetry-exporter-otlp, packaging, pathspec, pendulum, pluggy, psutil, pygments, pyjwt, python-daemon, python-dateutil, python-nvd3, python-slugify, requests, requests-toolbelt, rfc3339-validator, rich, rich-argparse, setproctitle, sqlalchemy, sqlalchemy-jsonfield, tabulate, tenacity, termcolor, universal-pathlib, werkzeug\n",
      "Required-by: apache-airflow-providers-common-compat, apache-airflow-providers-common-io, apache-airflow-providers-common-sql, apache-airflow-providers-fab, apache-airflow-providers-ftp, apache-airflow-providers-http, apache-airflow-providers-imap, apache-airflow-providers-smtp, apache-airflow-providers-sqlite\n"
     ]
    }
   ],
   "source": [
    "!pip show apache-airflow"
   ]
  },
  {
   "cell_type": "raw",
   "id": "dc61cebd-3950-45f1-a9e6-e342a04ebad3",
   "metadata": {},
   "source": [
    "3. Информация о процессоре"
   ]
  },
  {
   "cell_type": "code",
   "execution_count": 46,
   "id": "76b1b821-0ed0-416e-a0e1-a3026f9f86f2",
   "metadata": {},
   "outputs": [
    {
     "name": "stdout",
     "output_type": "stream",
     "text": [
      "Name                                    NumberOfCores  NumberOfLogicalProcessors  \n",
      "\n",
      "AMD Ryzen 7 5800H with Radeon Graphics  8              16                         \n",
      "\n",
      "\n",
      "\n"
     ]
    }
   ],
   "source": [
    "!wmic cpu get name,NumberOfCores,NumberOfLogicalProcessors"
   ]
  },
  {
   "cell_type": "markdown",
   "id": "9ba93bfd-6a28-40cb-9065-bc10108a3ec5",
   "metadata": {},
   "source": [
    "### Библиотека Pytorch\n",
    "PyTorch — это библиотека для машинного обучения, предназначенная для построения архитектур нейронных сетей и обучения."
   ]
  },
  {
   "cell_type": "code",
   "execution_count": 50,
   "id": "ed45887a-4d8c-4015-8e2d-ec13bcdb3fb0",
   "metadata": {},
   "outputs": [],
   "source": [
    "import torch"
   ]
  },
  {
   "cell_type": "code",
   "execution_count": 51,
   "id": "9e962e44-d2f3-4a03-a0d1-ed0d00f7ef85",
   "metadata": {},
   "outputs": [
    {
     "data": {
      "text/plain": [
       "tensor([4., 0., 4.])"
      ]
     },
     "execution_count": 51,
     "metadata": {},
     "output_type": "execute_result"
    }
   ],
   "source": [
    "a = torch.tensor([1.,2,3])\n",
    "b = torch.tensor([3,-2,1])\n",
    "c = a + b\n",
    "c"
   ]
  },
  {
   "cell_type": "code",
   "execution_count": 52,
   "id": "e4ca1d9b-fce2-4d91-9638-9581f6a5b310",
   "metadata": {},
   "outputs": [
    {
     "data": {
      "text/plain": [
       "False"
      ]
     },
     "execution_count": 52,
     "metadata": {},
     "output_type": "execute_result"
    }
   ],
   "source": [
    "torch.cuda.is_available()"
   ]
  },
  {
   "cell_type": "code",
   "execution_count": 53,
   "id": "a0049f6f-26a9-4002-a209-c1ccda0b3234",
   "metadata": {},
   "outputs": [
    {
     "name": "stdout",
     "output_type": "stream",
     "text": [
      "tensor([1.3333, 2.6667, 4.0000])\n"
     ]
    }
   ],
   "source": [
    "a = torch.tensor([1.,2,3], requires_grad=True)\n",
    "b = a + 2\n",
    "c = a * a * 2\n",
    "c = c.mean()\n",
    "c.backward()  # Вычисляет градиенты\n",
    "print(a.grad)"
   ]
  },
  {
   "cell_type": "markdown",
   "id": "860c1d62-cfa4-46ed-9e51-0b7feef3c2c1",
   "metadata": {},
   "source": [
    "### Пример обучения нейронной сети для изображений"
   ]
  },
  {
   "cell_type": "code",
   "execution_count": 57,
   "id": "4a2558e2-a5e2-4050-ae34-fbeacdb0beed",
   "metadata": {},
   "outputs": [],
   "source": [
    "import torch.nn as nn\n",
    "import torch.nn.functional as F\n",
    "from torch.utils.data import Dataset, DataLoader\n",
    "from torchvision import transforms\n",
    "from torchvision.datasets import MNIST\n",
    "import matplotlib.pyplot as plt\n",
    "\n",
    "#Пример построения графа нейросети с полносвязнными слоями\n",
    "class Net(nn.Module):\n",
    "    def __init__(self):\n",
    "        super(Net, self).__init__()\n",
    "        self.fc1 = nn.Linear(16 * 5 * 5, 120)\n",
    "        self.fc2 = nn.Linear(120, 84)\n",
    "        self.fc3 = nn.Linear(84, 10)\n",
    "\n",
    "    def forward(self, x):\n",
    "        x = F.relu(self.fc1(x))\n",
    "        x = F.relu(self.fc2(x))\n",
    "        x = self.fc3(x)\n",
    "        return x\n",
    "\n",
    "model = Net()"
   ]
  },
  {
   "cell_type": "code",
   "execution_count": 58,
   "id": "41e58d1f-442e-423d-be39-1770b0747bc1",
   "metadata": {},
   "outputs": [
    {
     "name": "stdout",
     "output_type": "stream",
     "text": [
      "torch.Size([1, 10])\n"
     ]
    }
   ],
   "source": [
    "import torch\n",
    "import torch.nn as nn\n",
    "import torch.nn.functional as F\n",
    "from tqdm import tqdm\n",
    "\n",
    "class PatchEmbedding(nn.Module):\n",
    "    def __init__(self, img_size, patch_size, in_channels, embed_dim):\n",
    "        super(PatchEmbedding, self).__init__()\n",
    "        self.patch_size = patch_size\n",
    "        self.proj = nn.Conv2d(in_channels, embed_dim, kernel_size=patch_size, stride=patch_size)\n",
    "\n",
    "    def forward(self, x):\n",
    "        x = self.proj(x)  # (B, C, H, W) -> (B, embed_dim, H/patch_size, W/patch_size)\n",
    "        x = x.flatten(2)  # (B, embed_dim, H/patch_size * W/patch_size)\n",
    "        x = x.transpose(1, 2)  # (B, H/patch_size * W/patch_size, embed_dim)\n",
    "        return x\n",
    "\n",
    "class MultiHeadAttention(nn.Module):\n",
    "    def __init__(self, embed_dim, num_heads):\n",
    "        super(MultiHeadAttention, self).__init__()\n",
    "        assert embed_dim % num_heads == 0\n",
    "\n",
    "        self.embed_dim = embed_dim\n",
    "        self.num_heads = num_heads\n",
    "        self.head_dim = embed_dim // num_heads\n",
    "\n",
    "        self.query_linear = nn.Linear(embed_dim, embed_dim)\n",
    "        self.key_linear = nn.Linear(embed_dim, embed_dim)\n",
    "        self.value_linear = nn.Linear(embed_dim, embed_dim)\n",
    "        self.out_linear = nn.Linear(embed_dim, embed_dim)\n",
    "\n",
    "    def attention(self, query, key, value, mask=None):\n",
    "        scores = torch.matmul(query, key.transpose(-2, -1)) / torch.sqrt(torch.tensor(self.head_dim, dtype=torch.float32))\n",
    "        if mask is not None:\n",
    "            scores = scores.masked_fill(mask == 0, -1e9)\n",
    "        attn = F.softmax(scores, dim=-1)\n",
    "        context = torch.matmul(attn, value)\n",
    "        return context, attn\n",
    "\n",
    "    def forward(self, x):\n",
    "        batch_size = x.size(0)\n",
    "\n",
    "        query = self.query_linear(x).view(batch_size, -1, self.num_heads, self.head_dim).transpose(1, 2)\n",
    "        key = self.key_linear(x).view(batch_size, -1, self.num_heads, self.head_dim).transpose(1, 2)\n",
    "        value = self.value_linear(x).view(batch_size, -1, self.num_heads, self.head_dim).transpose(1, 2)\n",
    "\n",
    "        context, _ = self.attention(query, key, value)\n",
    "        context = context.transpose(1, 2).contiguous().view(batch_size, -1, self.embed_dim)\n",
    "        return self.out_linear(context)\n",
    "\n",
    "class FeedForward(nn.Module):\n",
    "    def __init__(self, embed_dim, hidden_dim, dropout=0.1):\n",
    "        super(FeedForward, self).__init__()\n",
    "        self.linear1 = nn.Linear(embed_dim, hidden_dim)\n",
    "        self.dropout = nn.Dropout(dropout)\n",
    "        self.linear2 = nn.Linear(hidden_dim, embed_dim)\n",
    "\n",
    "    def forward(self, x):\n",
    "        return self.linear2(self.dropout(F.relu(self.linear1(x))))\n",
    "\n",
    "class TransformerLayer(nn.Module):\n",
    "    def __init__(self, embed_dim, num_heads, hidden_dim, dropout=0.1):\n",
    "        super(TransformerLayer, self).__init__()\n",
    "        self.attn = MultiHeadAttention(embed_dim, num_heads)\n",
    "        self.ff = FeedForward(embed_dim, hidden_dim, dropout)\n",
    "        self.norm1 = nn.LayerNorm(embed_dim)\n",
    "        self.norm2 = nn.LayerNorm(embed_dim)\n",
    "        self.dropout = nn.Dropout(dropout)\n",
    "\n",
    "    def forward(self, x):\n",
    "        attn_output = self.attn(x)\n",
    "        out1 = self.norm1(x + self.dropout(attn_output))\n",
    "        ff_output = self.ff(out1)\n",
    "        out2 = self.norm2(out1 + self.dropout(ff_output))\n",
    "        return out2\n",
    "\n",
    "class VisionTransformer(nn.Module):\n",
    "    def __init__(self, img_size, patch_size, in_channels, embed_dim, num_heads, hidden_dim, num_layers, num_classes, dropout=0.1):\n",
    "        super(VisionTransformer, self).__init__()\n",
    "        self.patch_embed = PatchEmbedding(img_size, patch_size, in_channels, embed_dim)\n",
    "        self.layers = nn.ModuleList([\n",
    "            TransformerLayer(embed_dim, num_heads, hidden_dim, dropout)\n",
    "            for _ in range(num_layers)\n",
    "        ])\n",
    "        self.linear = nn.Linear(embed_dim, num_classes)\n",
    "\n",
    "    def forward(self, x):\n",
    "        x = self.patch_embed(x)\n",
    "        for layer in self.layers:\n",
    "            x = layer(x)\n",
    "        x = x.mean(dim=1)  # Усреднение по последовательности\n",
    "        return self.linear(x)\n",
    "\n",
    "# Пример использования\n",
    "img_size = 28\n",
    "patch_size = 8\n",
    "in_channels = 1  # Для черно-белых изображений\n",
    "embed_dim = 14\n",
    "num_heads = 2\n",
    "hidden_dim = 6\n",
    "num_layers = 1\n",
    "num_classes = 10  # Например, для классификации цифр от 0 до 9\n",
    "dropout = 0.1\n",
    "\n",
    "model = VisionTransformer(img_size, patch_size, in_channels, embed_dim, num_heads, hidden_dim, num_layers, num_classes, dropout)\n",
    "\n",
    "# Пример входных данных\n",
    "x = torch.rand(1, in_channels, img_size, img_size)  # Батч из 32 изображений размером 28x28\n",
    "\n",
    "output = model(x)\n",
    "print(output.shape)  # Выходной тензор"
   ]
  },
  {
   "cell_type": "code",
   "execution_count": 59,
   "id": "1f19479f-4bba-438e-9b3a-132b8cdb1171",
   "metadata": {},
   "outputs": [
    {
     "name": "stderr",
     "output_type": "stream",
     "text": [
      "100%|██████████| 9.91M/9.91M [00:07<00:00, 1.41MB/s]\n",
      "100%|██████████| 28.9k/28.9k [00:00<00:00, 191kB/s]\n",
      "100%|██████████| 1.65M/1.65M [00:01<00:00, 1.20MB/s]\n",
      "100%|██████████| 4.54k/4.54k [00:00<00:00, 4.53MB/s]\n"
     ]
    }
   ],
   "source": [
    "transform=transforms.Compose([\n",
    "    transforms.ToTensor(),\n",
    "    transforms.Normalize((0.1307,), (0.3081,))\n",
    "    ])\n",
    "dataset1 = MNIST('../data', train=True, download=True,\n",
    "                   transform=transform)\n",
    "dataset2 = MNIST('../data', train=False,\n",
    "                   transform=transform)\n",
    "train_loader = torch.utils.data.DataLoader(dataset1,)\n",
    "test_loader = torch.utils.data.DataLoader(dataset2)"
   ]
  },
  {
   "cell_type": "code",
   "execution_count": 60,
   "id": "ae7231cb-3790-4a2f-980b-b65c801697a9",
   "metadata": {},
   "outputs": [
    {
     "name": "stdout",
     "output_type": "stream",
     "text": [
      "torch.Size([1, 1, 28, 28]) torch.Size([1])\n"
     ]
    }
   ],
   "source": [
    "inputs, labels = next(iter(train_loader)) \n",
    "print(inputs.shape, labels.shape)"
   ]
  },
  {
   "cell_type": "code",
   "execution_count": 61,
   "id": "baa92c47-7567-4c36-b321-21b7bf26351a",
   "metadata": {},
   "outputs": [],
   "source": [
    "criterion = nn.CrossEntropyLoss()\n",
    "optimizer = torch.optim.SGD(model.parameters(), lr=0.005, momentum=0.9)"
   ]
  },
  {
   "cell_type": "code",
   "execution_count": 62,
   "id": "f26ac36f-eae8-4feb-97fd-f302f6d06bb8",
   "metadata": {},
   "outputs": [
    {
     "name": "stderr",
     "output_type": "stream",
     "text": [
      "  7%|▋         | 1/15 [00:33<07:49, 33.55s/it]"
     ]
    },
    {
     "name": "stdout",
     "output_type": "stream",
     "text": [
      "Accuracy: 36%)\n",
      "\n"
     ]
    },
    {
     "name": "stderr",
     "output_type": "stream",
     "text": [
      " 13%|█▎        | 2/15 [01:05<07:07, 32.87s/it]"
     ]
    },
    {
     "name": "stdout",
     "output_type": "stream",
     "text": [
      "Accuracy: 37%)\n",
      "\n"
     ]
    },
    {
     "name": "stderr",
     "output_type": "stream",
     "text": [
      " 20%|██        | 3/15 [01:36<06:23, 31.98s/it]"
     ]
    },
    {
     "name": "stdout",
     "output_type": "stream",
     "text": [
      "Accuracy: 41%)\n",
      "\n"
     ]
    },
    {
     "name": "stderr",
     "output_type": "stream",
     "text": [
      " 27%|██▋       | 4/15 [02:07<05:44, 31.33s/it]"
     ]
    },
    {
     "name": "stdout",
     "output_type": "stream",
     "text": [
      "Accuracy: 44%)\n",
      "\n"
     ]
    },
    {
     "name": "stderr",
     "output_type": "stream",
     "text": [
      " 33%|███▎      | 5/15 [02:37<05:10, 31.10s/it]"
     ]
    },
    {
     "name": "stdout",
     "output_type": "stream",
     "text": [
      "Accuracy: 35%)\n",
      "\n"
     ]
    },
    {
     "name": "stderr",
     "output_type": "stream",
     "text": [
      " 40%|████      | 6/15 [03:08<04:39, 31.02s/it]"
     ]
    },
    {
     "name": "stdout",
     "output_type": "stream",
     "text": [
      "Accuracy: 38%)\n",
      "\n"
     ]
    },
    {
     "name": "stderr",
     "output_type": "stream",
     "text": [
      " 47%|████▋     | 7/15 [03:40<04:11, 31.40s/it]"
     ]
    },
    {
     "name": "stdout",
     "output_type": "stream",
     "text": [
      "Accuracy: 40%)\n",
      "\n"
     ]
    },
    {
     "name": "stderr",
     "output_type": "stream",
     "text": [
      " 53%|█████▎    | 8/15 [04:11<03:36, 31.00s/it]"
     ]
    },
    {
     "name": "stdout",
     "output_type": "stream",
     "text": [
      "Accuracy: 41%)\n",
      "\n"
     ]
    },
    {
     "name": "stderr",
     "output_type": "stream",
     "text": [
      " 60%|██████    | 9/15 [04:42<03:06, 31.04s/it]"
     ]
    },
    {
     "name": "stdout",
     "output_type": "stream",
     "text": [
      "Accuracy: 41%)\n",
      "\n"
     ]
    },
    {
     "name": "stderr",
     "output_type": "stream",
     "text": [
      " 67%|██████▋   | 10/15 [05:16<02:39, 31.95s/it]"
     ]
    },
    {
     "name": "stdout",
     "output_type": "stream",
     "text": [
      "Accuracy: 43%)\n",
      "\n"
     ]
    },
    {
     "name": "stderr",
     "output_type": "stream",
     "text": [
      " 73%|███████▎  | 11/15 [05:49<02:08, 32.24s/it]"
     ]
    },
    {
     "name": "stdout",
     "output_type": "stream",
     "text": [
      "Accuracy: 43%)\n",
      "\n"
     ]
    },
    {
     "name": "stderr",
     "output_type": "stream",
     "text": [
      " 80%|████████  | 12/15 [06:23<01:38, 32.92s/it]"
     ]
    },
    {
     "name": "stdout",
     "output_type": "stream",
     "text": [
      "Accuracy: 42%)\n",
      "\n"
     ]
    },
    {
     "name": "stderr",
     "output_type": "stream",
     "text": [
      " 87%|████████▋ | 13/15 [06:58<01:07, 33.65s/it]"
     ]
    },
    {
     "name": "stdout",
     "output_type": "stream",
     "text": [
      "Accuracy: 44%)\n",
      "\n"
     ]
    },
    {
     "name": "stderr",
     "output_type": "stream",
     "text": [
      " 93%|█████████▎| 14/15 [07:33<00:33, 33.86s/it]"
     ]
    },
    {
     "name": "stdout",
     "output_type": "stream",
     "text": [
      "Accuracy: 43%)\n",
      "\n"
     ]
    },
    {
     "name": "stderr",
     "output_type": "stream",
     "text": [
      "100%|██████████| 15/15 [08:09<00:00, 32.65s/it]"
     ]
    },
    {
     "name": "stdout",
     "output_type": "stream",
     "text": [
      "Accuracy: 44%)\n",
      "\n"
     ]
    },
    {
     "name": "stderr",
     "output_type": "stream",
     "text": [
      "\n"
     ]
    }
   ],
   "source": [
    "for epoch in tqdm(range(15)):  # Количество эпох\n",
    "    correct = 0\n",
    "    for data in test_loader:  # Итерация по данным\n",
    "        inputs, labels = data\n",
    "        optimizer.zero_grad()  # Обнуление градиентов\n",
    "        outputs = model(inputs)  # Прямой проход\n",
    "        loss = criterion(outputs, labels)  # Вычисление потерь\n",
    "        \n",
    "        loss.backward()  # Обратный проход\n",
    "        optimizer.step()  # Обновление весов\n",
    "        pred = outputs.argmax(dim=1, keepdim=True)\n",
    "        correct += pred.eq(labels).item()\n",
    "    print('Accuracy: {:.0f}%)\\n'.format(correct/len(test_loader)*100))"
   ]
  },
  {
   "cell_type": "code",
   "execution_count": 63,
   "id": "dc23c873-b711-4aac-886c-bf972989cf4c",
   "metadata": {},
   "outputs": [
    {
     "data": {
      "text/plain": [
       "(tensor(7), 6)"
      ]
     },
     "execution_count": 63,
     "metadata": {},
     "output_type": "execute_result"
    }
   ],
   "source": [
    "number = 100\n",
    "test_img, test_label = test_loader.dataset[number]\n",
    "test_img = test_img.unsqueeze(0)\n",
    "torch.argmax(model(test_img)), test_label"
   ]
  },
  {
   "cell_type": "code",
   "execution_count": 64,
   "id": "56cc867b-e9c2-4b3a-935f-21da3ed811dd",
   "metadata": {},
   "outputs": [
    {
     "name": "stdout",
     "output_type": "stream",
     "text": [
      "Pred = 7, Label = 7\n",
      "Pred = 0, Label = 2\n",
      "Pred = 1, Label = 1\n",
      "Pred = 6, Label = 0\n",
      "Pred = 7, Label = 4\n",
      "Pred = 1, Label = 1\n",
      "Pred = 0, Label = 4\n",
      "Pred = 6, Label = 9\n",
      "Pred = 4, Label = 5\n",
      "Pred = 8, Label = 9\n",
      "Pred = 3, Label = 0\n",
      "Pred = 6, Label = 6\n",
      "Pred = 7, Label = 9\n",
      "Pred = 7, Label = 0\n",
      "Pred = 1, Label = 1\n"
     ]
    }
   ],
   "source": [
    "#посмотрим как модель предсказывает цифры\n",
    "for number in range(15):\n",
    "    test_img, test_label = test_loader.dataset[number]\n",
    "    test_img = test_img.unsqueeze(0)\n",
    "    print(f\"Pred = {torch.argmax(model(test_img))}, Label = {test_label}\")"
   ]
  },
  {
   "cell_type": "markdown",
   "id": "01e1fd3e-ec6a-4ae1-8f15-06f27b653ce4",
   "metadata": {},
   "source": [
    "## Визуализация прогнозов модели"
   ]
  },
  {
   "cell_type": "code",
   "execution_count": 65,
   "id": "aa3000e0-33ed-43b2-9aaa-74472c787b8a",
   "metadata": {},
   "outputs": [
    {
     "data": {
      "image/png": "[encoded data removed]",
      "text/plain": [
       "<Figure size 640x480 with 8 Axes>"
      ]
     },
     "metadata": {},
     "output_type": "display_data"
    }
   ],
   "source": [
    "fig, ax = plt.subplots(1,8)\n",
    "for number in range(8):\n",
    "    test_img, test_label = test_loader.dataset[number]\n",
    "    test_img = test_img.unsqueeze(0)\n",
    "    pred = torch.argmax(model(test_img))\n",
    "    ax[number].imshow(test_img[0][0].numpy())\n",
    "    ax[number].set_title(f\"P = {pred}\")"
   ]
  },
  {
   "cell_type": "markdown",
   "id": "89eb827d-8a57-4253-96e2-c5c38e2a7696",
   "metadata": {},
   "source": [
    "### Обучение модели линеной регрессии"
   ]
  },
  {
   "cell_type": "code",
   "execution_count": 2,
   "id": "58569ba0-9c2b-4cbb-8869-073259d1279b",
   "metadata": {},
   "outputs": [],
   "source": [
    "import pandas as pd\n",
    "from sklearn.model_selection import train_test_split\n",
    "from sklearn.preprocessing import StandardScaler, OrdinalEncoder, OneHotEncoder, PowerTransformer\n",
    "from sklearn.pipeline import Pipeline\n",
    "from sklearn.compose import ColumnTransformer # т.н. преобразователь колонок\n",
    "from sklearn.linear_model import SGDRegressor\n",
    "from sklearn.metrics import root_mean_squared_error\n",
    "import numpy as np\n",
    "import matplotlib.pyplot as plt\n",
    "import pickle"
   ]
  },
  {
   "cell_type": "code",
   "execution_count": 69,
   "id": "7c154212-eef8-476e-b637-ae895d1a7107",
   "metadata": {},
   "outputs": [],
   "source": [
    "# В качестве набора данных используется история продаж автомобилей. Для целевой переменной используем Price(euro) - стоимость авто"
   ]
  },
  {
   "cell_type": "code",
   "execution_count": 70,
   "id": "a773f73a-ee2e-4868-acda-f5fd2b3b49c4",
   "metadata": {},
   "outputs": [
    {
     "data": {
      "text/html": [
       "<div>\n",
       "<style scoped>\n",
       "    .dataframe tbody tr th:only-of-type {\n",
       "        vertical-align: middle;\n",
       "    }\n",
       "\n",
       "    .dataframe tbody tr th {\n",
       "        vertical-align: top;\n",
       "    }\n",
       "\n",
       "    .dataframe thead th {\n",
       "        text-align: right;\n",
       "    }\n",
       "</style>\n",
       "<table border=\"1\" class=\"dataframe\">\n",
       "  <thead>\n",
       "    <tr style=\"text-align: right;\">\n",
       "      <th></th>\n",
       "      <th>Make</th>\n",
       "      <th>Model</th>\n",
       "      <th>Year</th>\n",
       "      <th>Style</th>\n",
       "      <th>Distance</th>\n",
       "      <th>Engine_capacity(cm3)</th>\n",
       "      <th>Fuel_type</th>\n",
       "      <th>Transmission</th>\n",
       "      <th>Price(euro)</th>\n",
       "    </tr>\n",
       "  </thead>\n",
       "  <tbody>\n",
       "    <tr>\n",
       "      <th>0</th>\n",
       "      <td>Toyota</td>\n",
       "      <td>Prius</td>\n",
       "      <td>2011</td>\n",
       "      <td>Hatchback</td>\n",
       "      <td>195000.0</td>\n",
       "      <td>1800.0</td>\n",
       "      <td>Hybrid</td>\n",
       "      <td>Automatic</td>\n",
       "      <td>7750.0</td>\n",
       "    </tr>\n",
       "    <tr>\n",
       "      <th>1</th>\n",
       "      <td>Renault</td>\n",
       "      <td>Grand Scenic</td>\n",
       "      <td>2014</td>\n",
       "      <td>Universal</td>\n",
       "      <td>135000.0</td>\n",
       "      <td>1500.0</td>\n",
       "      <td>Diesel</td>\n",
       "      <td>Manual</td>\n",
       "      <td>8550.0</td>\n",
       "    </tr>\n",
       "    <tr>\n",
       "      <th>2</th>\n",
       "      <td>Volkswagen</td>\n",
       "      <td>Golf</td>\n",
       "      <td>1998</td>\n",
       "      <td>Hatchback</td>\n",
       "      <td>1.0</td>\n",
       "      <td>1400.0</td>\n",
       "      <td>Petrol</td>\n",
       "      <td>Manual</td>\n",
       "      <td>2200.0</td>\n",
       "    </tr>\n",
       "    <tr>\n",
       "      <th>3</th>\n",
       "      <td>Renault</td>\n",
       "      <td>Laguna</td>\n",
       "      <td>2012</td>\n",
       "      <td>Universal</td>\n",
       "      <td>110000.0</td>\n",
       "      <td>1500.0</td>\n",
       "      <td>Diesel</td>\n",
       "      <td>Manual</td>\n",
       "      <td>6550.0</td>\n",
       "    </tr>\n",
       "    <tr>\n",
       "      <th>4</th>\n",
       "      <td>Opel</td>\n",
       "      <td>Astra</td>\n",
       "      <td>2006</td>\n",
       "      <td>Universal</td>\n",
       "      <td>200000.0</td>\n",
       "      <td>1600.0</td>\n",
       "      <td>Metan/Propan</td>\n",
       "      <td>Manual</td>\n",
       "      <td>4100.0</td>\n",
       "    </tr>\n",
       "    <tr>\n",
       "      <th>...</th>\n",
       "      <td>...</td>\n",
       "      <td>...</td>\n",
       "      <td>...</td>\n",
       "      <td>...</td>\n",
       "      <td>...</td>\n",
       "      <td>...</td>\n",
       "      <td>...</td>\n",
       "      <td>...</td>\n",
       "      <td>...</td>\n",
       "    </tr>\n",
       "    <tr>\n",
       "      <th>37259</th>\n",
       "      <td>Land Rover</td>\n",
       "      <td>Freelander</td>\n",
       "      <td>2002</td>\n",
       "      <td>Crossover</td>\n",
       "      <td>225000.0</td>\n",
       "      <td>1800.0</td>\n",
       "      <td>Metan/Propan</td>\n",
       "      <td>Manual</td>\n",
       "      <td>4400.0</td>\n",
       "    </tr>\n",
       "    <tr>\n",
       "      <th>37260</th>\n",
       "      <td>Dacia</td>\n",
       "      <td>Logan Mcv</td>\n",
       "      <td>2015</td>\n",
       "      <td>Universal</td>\n",
       "      <td>89000.0</td>\n",
       "      <td>1500.0</td>\n",
       "      <td>Diesel</td>\n",
       "      <td>Manual</td>\n",
       "      <td>7000.0</td>\n",
       "    </tr>\n",
       "    <tr>\n",
       "      <th>37261</th>\n",
       "      <td>Renault</td>\n",
       "      <td>Modus</td>\n",
       "      <td>2009</td>\n",
       "      <td>Hatchback</td>\n",
       "      <td>225.0</td>\n",
       "      <td>1500.0</td>\n",
       "      <td>Diesel</td>\n",
       "      <td>Manual</td>\n",
       "      <td>4500.0</td>\n",
       "    </tr>\n",
       "    <tr>\n",
       "      <th>37262</th>\n",
       "      <td>Mazda</td>\n",
       "      <td>6</td>\n",
       "      <td>2006</td>\n",
       "      <td>Combi</td>\n",
       "      <td>370000.0</td>\n",
       "      <td>2000.0</td>\n",
       "      <td>Diesel</td>\n",
       "      <td>Manual</td>\n",
       "      <td>4000.0</td>\n",
       "    </tr>\n",
       "    <tr>\n",
       "      <th>37263</th>\n",
       "      <td>Renault</td>\n",
       "      <td>Grand Scenic</td>\n",
       "      <td>2006</td>\n",
       "      <td>Minivan</td>\n",
       "      <td>300000.0</td>\n",
       "      <td>1500.0</td>\n",
       "      <td>Diesel</td>\n",
       "      <td>Manual</td>\n",
       "      <td>4000.0</td>\n",
       "    </tr>\n",
       "  </tbody>\n",
       "</table>\n",
       "<p>37264 rows × 9 columns</p>\n",
       "</div>"
      ],
      "text/plain": [
       "             Make         Model  Year      Style  Distance  \\\n",
       "0          Toyota         Prius  2011  Hatchback  195000.0   \n",
       "1         Renault  Grand Scenic  2014  Universal  135000.0   \n",
       "2      Volkswagen          Golf  1998  Hatchback       1.0   \n",
       "3         Renault        Laguna  2012  Universal  110000.0   \n",
       "4            Opel         Astra  2006  Universal  200000.0   \n",
       "...           ...           ...   ...        ...       ...   \n",
       "37259  Land Rover    Freelander  2002  Crossover  225000.0   \n",
       "37260       Dacia     Logan Mcv  2015  Universal   89000.0   \n",
       "37261     Renault         Modus  2009  Hatchback     225.0   \n",
       "37262       Mazda             6  2006      Combi  370000.0   \n",
       "37263     Renault  Grand Scenic  2006    Minivan  300000.0   \n",
       "\n",
       "       Engine_capacity(cm3)     Fuel_type Transmission  Price(euro)  \n",
       "0                    1800.0        Hybrid    Automatic       7750.0  \n",
       "1                    1500.0        Diesel       Manual       8550.0  \n",
       "2                    1400.0        Petrol       Manual       2200.0  \n",
       "3                    1500.0        Diesel       Manual       6550.0  \n",
       "4                    1600.0  Metan/Propan       Manual       4100.0  \n",
       "...                     ...           ...          ...          ...  \n",
       "37259                1800.0  Metan/Propan       Manual       4400.0  \n",
       "37260                1500.0        Diesel       Manual       7000.0  \n",
       "37261                1500.0        Diesel       Manual       4500.0  \n",
       "37262                2000.0        Diesel       Manual       4000.0  \n",
       "37263                1500.0        Diesel       Manual       4000.0  \n",
       "\n",
       "[37264 rows x 9 columns]"
      ]
     },
     "execution_count": 70,
     "metadata": {},
     "output_type": "execute_result"
    }
   ],
   "source": [
    "df = pd.read_csv('https://raw.githubusercontent.com/dayekb/Basic_ML_Alg/main/cars_moldova_no_dup.csv', delimiter = ',')\n",
    "df"
   ]
  },
  {
   "cell_type": "raw",
   "id": "e89af91f-1913-464a-b944-cf89ad94de1a",
   "metadata": {},
   "source": [
    "Предобработка данных для работы обучения модели.\n",
    "\n",
    "Кодирование категориальных признаков и мастабирование входных данных и целевой переменной"
   ]
  },
  {
   "cell_type": "code",
   "execution_count": 71,
   "id": "7501f0d1-d9cb-4bde-99cd-80b7ac7e203a",
   "metadata": {},
   "outputs": [],
   "source": [
    "\n",
    "cat_columns = ['Make', 'Model', 'Style', 'Fuel_type', 'Transmission']\n",
    "num_columns = ['Year', 'Distance', 'Engine_capacity(cm3)', 'Price(euro)']\n",
    "\n",
    "question_dist = df[(df.Year <2021) & (df.Distance < 1100)]\n",
    "df = df.drop(question_dist.index)\n",
    "# Анализ и очистка данных\n",
    "# анализ гистограмм\n",
    "question_dist = df[(df.Distance > 1e6)]\n",
    "df = df.drop(question_dist.index)\n",
    "\n",
    "# здравый смысл\n",
    "question_engine = df[df[\"Engine_capacity(cm3)\"] < 200]\n",
    "df = df.drop(question_engine.index)\n",
    "\n",
    "# здравый смысл\n",
    "question_engine = df[df[\"Engine_capacity(cm3)\"] > 5000]\n",
    "df = df.drop(question_engine.index)\n",
    "\n",
    "# здравый смысл\n",
    "question_price = df[(df[\"Price(euro)\"] < 101)]\n",
    "df = df.drop(question_price.index)\n",
    "\n",
    "# анализ гистограмм\n",
    "question_price = df[df[\"Price(euro)\"] > 1e5]\n",
    "df = df.drop(question_price.index)\n",
    "\n",
    "#анализ гистограмм\n",
    "question_year = df[df.Year < 1971]\n",
    "df = df.drop(question_year.index)\n",
    "\n",
    "df = df.reset_index(drop=True)  # обновим индексы в датафрейме DF. если бы мы прописали drop = False, то была бы еще одна колонка - старые индексы\n",
    "# Разделение данных на признаки и целевую переменную\n",
    "\n",
    "\n",
    "# Предварительная обработка категориальных данных\n",
    "# Порядковое кодирование. Обучение, трансформация и упаковка в df\n",
    "\n",
    "ordinal = OrdinalEncoder()\n",
    "ordinal.fit(df[cat_columns]);\n",
    "Ordinal_encoded = ordinal.transform(df[cat_columns])\n",
    "df_ordinal = pd.DataFrame(Ordinal_encoded, columns=cat_columns)\n",
    "df[cat_columns] = df_ordinal[cat_columns]"
   ]
  },
  {
   "cell_type": "code",
   "execution_count": 72,
   "id": "70e9cf0a-1ae6-40ca-9ac2-44d439dcc007",
   "metadata": {},
   "outputs": [],
   "source": [
    "X,y = df.drop(columns = ['Price(euro)']), df['Price(euro)']\n",
    "scaler = StandardScaler()\n",
    "power_trans = PowerTransformer()\n",
    "X_scale = scaler.fit_transform(X.values)\n",
    "\n",
    "Y_scale = power_trans.fit_transform(y.values.reshape(-1,1))"
   ]
  },
  {
   "cell_type": "code",
   "execution_count": 73,
   "id": "84997ae9-3872-4040-85b5-f8c64663d8d4",
   "metadata": {},
   "outputs": [],
   "source": [
    "features_names = X.columns.to_list()"
   ]
  },
  {
   "cell_type": "code",
   "execution_count": 74,
   "id": "b336c5b3-02a8-49e5-954a-82e56bc3f433",
   "metadata": {},
   "outputs": [],
   "source": [
    "# разбиваем на тестовую и валидационную выборки\n",
    "X_train, X_val, y_train, y_val = train_test_split(X_scale, Y_scale,\n",
    "                                                  test_size=0.3,\n",
    "                                                  random_state=42)"
   ]
  },
  {
   "cell_type": "markdown",
   "id": "78e3ab42-051f-4cbb-8171-d93332ac1c88",
   "metadata": {},
   "source": [
    "### Обучение линейной регрессии"
   ]
  },
  {
   "cell_type": "code",
   "execution_count": 75,
   "id": "47d79259-0670-4f97-b514-40b5a85807a7",
   "metadata": {},
   "outputs": [
    {
     "name": "stdout",
     "output_type": "stream",
     "text": [
      "R^2 =  0.7092590084519377\n"
     ]
    },
    {
     "name": "stderr",
     "output_type": "stream",
     "text": [
      "C:\\Users\\Artem Markov\\anaconda3\\Lib\\site-packages\\sklearn\\utils\\validation.py:1339: DataConversionWarning: A column-vector y was passed when a 1d array was expected. Please change the shape of y to (n_samples, ), for example using ravel().\n",
      "  y = column_or_1d(y, warn=True)\n"
     ]
    }
   ],
   "source": [
    "model = SGDRegressor()\n",
    "model.fit(X_train, y_train)\n",
    "r = model.score(X_train, y_train)\n",
    "print('R^2 = ', r) # Метрика R^2"
   ]
  },
  {
   "cell_type": "markdown",
   "id": "b53993e7-4141-4b9a-96c2-9a49632e0dd1",
   "metadata": {},
   "source": [
    "### Оценим ошибку модели"
   ]
  },
  {
   "cell_type": "code",
   "execution_count": 76,
   "id": "72fc0c8e-465e-4b5c-80a6-6d469da72c9b",
   "metadata": {},
   "outputs": [
    {
     "name": "stdout",
     "output_type": "stream",
     "text": [
      "Средняя ошибка прогноза модели = 5869.9124408484795\n"
     ]
    }
   ],
   "source": [
    "y_pred = model.predict(X_val)\n",
    "y_price = power_trans.inverse_transform(y_pred.reshape(-1,1))\n",
    "print(\"Средняя ошибка прогноза модели =\", root_mean_squared_error(power_trans.inverse_transform(y_val.reshape(-1,1)), y_price))"
   ]
  },
  {
   "cell_type": "code",
   "execution_count": 77,
   "id": "1ff279a1-b841-47cb-9063-de3e5399d2fd",
   "metadata": {},
   "outputs": [
    {
     "data": {
      "text/plain": [
       "<matplotlib.legend.Legend at 0x1649e2f6840>"
      ]
     },
     "execution_count": 77,
     "metadata": {},
     "output_type": "execute_result"
    },
    {
     "data": {
      "image/png": "[encoded data removed]",
      "text/plain": [
       "<Figure size 1800x700 with 2 Axes>"
      ]
     },
     "metadata": {},
     "output_type": "display_data"
    }
   ],
   "source": [
    "y = power_trans.inverse_transform(y_val.reshape(-1,1))\n",
    "fig,ax = plt.subplots(1,2, dpi = 100, figsize=(18,7))\n",
    "ax[0].scatter( y, y_price,)\n",
    "ax[0].set_xlabel('Price')\n",
    "ax[0].set_ylabel('Прогноз модели')\n",
    "\n",
    "ax[1].hist( y,50)\n",
    "ax[1].hist( y_price,50, label='Прогноз')\n",
    "\n",
    "ax[1].set_xlabel('Price')\n",
    "ax[1].set_ylabel('N')"
   ]
  },
  {
   "cell_type": "code",
   "execution_count": 78,
   "id": "e929d252-46d5-459f-b02b-c5bef0dd4264",
   "metadata": {},
   "outputs": [],
   "source": [
    "##Сохраним модель\n",
    "with open('model_lr.pkl', 'wb') as file:\n",
    "    pickle.dump(model, file)"
   ]
  },
  {
   "cell_type": "markdown",
   "id": "3d8c549b-d6e4-4eff-9edc-55cdb84f56e8",
   "metadata": {},
   "source": [
    "### Задание. Лабораторная работа №1"
   ]
  },
  {
   "cell_type": "markdown",
   "id": "9454d2ad-1b1e-4fb3-9b70-bedff787f2f3",
   "metadata": {},
   "source": [
    "1.Выполнить установку и настройку необходимых библитек для работы с ML. Выполнить ячейки ноутбука (5 баллов)\n",
    "\n",
    "2.Произвести обучение одной модели (Нейронной сети или линейнойной регрессии) (5 баллов)\n",
    "\n",
    "За обучение модели на своих данных +5 баллов "
   ]
  },
  {
   "cell_type": "code",
   "execution_count": 43,
   "id": "dc3405cd-ca0c-48b5-9a86-6826cdf70a60",
   "metadata": {},
   "outputs": [],
   "source": [
    "## Данные были взяты из:\n",
    "# https://archive.ics.uci.edu/dataset/186/wine+quality"
   ]
  },
  {
   "cell_type": "code",
   "execution_count": 27,
   "id": "513a1515-8ed9-4cac-b4b0-4d31d0ade734",
   "metadata": {},
   "outputs": [],
   "source": [
    "import pandas as pd\n",
    "import numpy as np\n",
    "from sklearn.model_selection import train_test_split\n",
    "from sklearn.linear_model import LinearRegression\n",
    "from sklearn.metrics import mean_squared_error, r2_score\n",
    "import matplotlib.pyplot as plt\n",
    "import pickle"
   ]
  },
  {
   "cell_type": "code",
   "execution_count": 28,
   "id": "09fedc85-8b74-4189-bfd8-d9d893051978",
   "metadata": {},
   "outputs": [
    {
     "data": {
      "text/html": [
       "<div>\n",
       "<style scoped>\n",
       "    .dataframe tbody tr th:only-of-type {\n",
       "        vertical-align: middle;\n",
       "    }\n",
       "\n",
       "    .dataframe tbody tr th {\n",
       "        vertical-align: top;\n",
       "    }\n",
       "\n",
       "    .dataframe thead th {\n",
       "        text-align: right;\n",
       "    }\n",
       "</style>\n",
       "<table border=\"1\" class=\"dataframe\">\n",
       "  <thead>\n",
       "    <tr style=\"text-align: right;\">\n",
       "      <th></th>\n",
       "      <th>fixed acidity</th>\n",
       "      <th>volatile acidity</th>\n",
       "      <th>citric acid</th>\n",
       "      <th>residual sugar</th>\n",
       "      <th>chlorides</th>\n",
       "      <th>free sulfur dioxide</th>\n",
       "      <th>total sulfur dioxide</th>\n",
       "      <th>density</th>\n",
       "      <th>pH</th>\n",
       "      <th>sulphates</th>\n",
       "      <th>alcohol</th>\n",
       "      <th>quality</th>\n",
       "    </tr>\n",
       "  </thead>\n",
       "  <tbody>\n",
       "    <tr>\n",
       "      <th>0</th>\n",
       "      <td>7.4</td>\n",
       "      <td>0.70</td>\n",
       "      <td>0.00</td>\n",
       "      <td>1.9</td>\n",
       "      <td>0.076</td>\n",
       "      <td>11.0</td>\n",
       "      <td>34.0</td>\n",
       "      <td>0.9978</td>\n",
       "      <td>3.51</td>\n",
       "      <td>0.56</td>\n",
       "      <td>9.4</td>\n",
       "      <td>5</td>\n",
       "    </tr>\n",
       "    <tr>\n",
       "      <th>1</th>\n",
       "      <td>7.8</td>\n",
       "      <td>0.88</td>\n",
       "      <td>0.00</td>\n",
       "      <td>2.6</td>\n",
       "      <td>0.098</td>\n",
       "      <td>25.0</td>\n",
       "      <td>67.0</td>\n",
       "      <td>0.9968</td>\n",
       "      <td>3.20</td>\n",
       "      <td>0.68</td>\n",
       "      <td>9.8</td>\n",
       "      <td>5</td>\n",
       "    </tr>\n",
       "    <tr>\n",
       "      <th>2</th>\n",
       "      <td>7.8</td>\n",
       "      <td>0.76</td>\n",
       "      <td>0.04</td>\n",
       "      <td>2.3</td>\n",
       "      <td>0.092</td>\n",
       "      <td>15.0</td>\n",
       "      <td>54.0</td>\n",
       "      <td>0.9970</td>\n",
       "      <td>3.26</td>\n",
       "      <td>0.65</td>\n",
       "      <td>9.8</td>\n",
       "      <td>5</td>\n",
       "    </tr>\n",
       "    <tr>\n",
       "      <th>3</th>\n",
       "      <td>11.2</td>\n",
       "      <td>0.28</td>\n",
       "      <td>0.56</td>\n",
       "      <td>1.9</td>\n",
       "      <td>0.075</td>\n",
       "      <td>17.0</td>\n",
       "      <td>60.0</td>\n",
       "      <td>0.9980</td>\n",
       "      <td>3.16</td>\n",
       "      <td>0.58</td>\n",
       "      <td>9.8</td>\n",
       "      <td>6</td>\n",
       "    </tr>\n",
       "    <tr>\n",
       "      <th>4</th>\n",
       "      <td>7.4</td>\n",
       "      <td>0.70</td>\n",
       "      <td>0.00</td>\n",
       "      <td>1.9</td>\n",
       "      <td>0.076</td>\n",
       "      <td>11.0</td>\n",
       "      <td>34.0</td>\n",
       "      <td>0.9978</td>\n",
       "      <td>3.51</td>\n",
       "      <td>0.56</td>\n",
       "      <td>9.4</td>\n",
       "      <td>5</td>\n",
       "    </tr>\n",
       "  </tbody>\n",
       "</table>\n",
       "</div>"
      ],
      "text/plain": [
       "   fixed acidity  volatile acidity  citric acid  residual sugar  chlorides  \\\n",
       "0            7.4              0.70         0.00             1.9      0.076   \n",
       "1            7.8              0.88         0.00             2.6      0.098   \n",
       "2            7.8              0.76         0.04             2.3      0.092   \n",
       "3           11.2              0.28         0.56             1.9      0.075   \n",
       "4            7.4              0.70         0.00             1.9      0.076   \n",
       "\n",
       "   free sulfur dioxide  total sulfur dioxide  density    pH  sulphates  \\\n",
       "0                 11.0                  34.0   0.9978  3.51       0.56   \n",
       "1                 25.0                  67.0   0.9968  3.20       0.68   \n",
       "2                 15.0                  54.0   0.9970  3.26       0.65   \n",
       "3                 17.0                  60.0   0.9980  3.16       0.58   \n",
       "4                 11.0                  34.0   0.9978  3.51       0.56   \n",
       "\n",
       "   alcohol  quality  \n",
       "0      9.4        5  \n",
       "1      9.8        5  \n",
       "2      9.8        5  \n",
       "3      9.8        6  \n",
       "4      9.4        5  "
      ]
     },
     "execution_count": 28,
     "metadata": {},
     "output_type": "execute_result"
    }
   ],
   "source": [
    "data = pd.read_csv('winequality-red.csv', sep=';')\n",
    "data.head()"
   ]
  },
  {
   "cell_type": "code",
   "execution_count": 29,
   "id": "fbeae61c-2b80-45d8-a031-c16472d3a846",
   "metadata": {},
   "outputs": [],
   "source": [
    "X = data.drop('quality', axis=1)\n",
    "y = data['quality']\n",
    "X_train, X_test, y_train, y_test = train_test_split(X, y, test_size=0.3, random_state=42)"
   ]
  },
  {
   "cell_type": "code",
   "execution_count": 30,
   "id": "261a37d2-a57e-40bc-9189-40b242fe5f1a",
   "metadata": {},
   "outputs": [
    {
     "name": "stdout",
     "output_type": "stream",
     "text": [
      "Mean Squared Error: 0.41\n",
      "R-squared: 0.35\n"
     ]
    }
   ],
   "source": [
    "model = LinearRegression()\n",
    "model.fit(X_train, y_train)\n",
    "y_pred = model.predict(X_test)\n",
    "mse = mean_squared_error(y_test, y_pred)\n",
    "r2 = r2_score(y_test, y_pred)\n",
    "\n",
    "print(f\"Mean Squared Error: {mse:.2f}\")\n",
    "print(f\"R-squared: {r2:.2f}\")"
   ]
  },
  {
   "cell_type": "code",
   "execution_count": 42,
   "id": "d1bdb21c-232f-42eb-8249-5191f7be9281",
   "metadata": {},
   "outputs": [
    {
     "data": {
      "image/png": "[encoded data removed]",
      "text/plain": [
       "<Figure size 500x500 with 1 Axes>"
      ]
     },
     "metadata": {},
     "output_type": "display_data"
    }
   ],
   "source": [
    "# Визуализация предсказаний vs реальных значений\n",
    "plt.figure(figsize=(5, 5))\n",
    "plt.scatter(y_test, y_pred)\n",
    "plt.xlabel('Фактическое качество', fontsize=12)\n",
    "plt.ylabel('Предсказанное качество', fontsize=12)\n",
    "plt.title('Сравнение фактического и предсказанного качества вина', fontsize=14, pad=15)\n",
    "plt.grid(True, linestyle='--', alpha=0.3)\n",
    "\n",
    "plt.show()"
   ]
  },
  {
   "cell_type": "code",
   "execution_count": 44,
   "id": "09c69aba-38a7-4db3-b48f-f16297da4053",
   "metadata": {},
   "outputs": [],
   "source": [
    "with open('model_wine.pkl', 'wb') as file:\n",
    "    pickle.dump(model, file)"
   ]
  },
  {
   "cell_type": "code",
   "execution_count": null,
   "id": "206af5e2-55b9-4eb7-92cd-9ca41ed35527",
   "metadata": {},
   "outputs": [],
   "source": []
  }
 ],
 "metadata": {
  "kernelspec": {
   "display_name": "Python 3 (ipykernel)",
   "language": "python",
   "name": "python3"
  },
  "language_info": {
   "codemirror_mode": {
    "name": "ipython",
    "version": 3
   },
   "file_extension": ".py",
   "mimetype": "text/x-python",
   "name": "python",
   "nbconvert_exporter": "python",
   "pygments_lexer": "ipython3",
   "version": "3.12.7"
  }
 },
 "nbformat": 4,
 "nbformat_minor": 5
}
